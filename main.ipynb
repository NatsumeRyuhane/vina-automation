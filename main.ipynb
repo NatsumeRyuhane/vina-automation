{
 "cells": [
  {
   "metadata": {
    "ExecuteTime": {
     "end_time": "2024-10-13T06:18:27.833051Z",
     "start_time": "2024-10-13T06:18:27.816108Z"
    }
   },
   "cell_type": "code",
   "source": [
    "# Imports\n",
    "import subprocess\n",
    "import pathlib\n",
    "import os\n",
    "import logging\n",
    "import sys\n",
    "import shutil\n",
    "from datetime import datetime"
   ],
   "id": "ee4d4a0be4f52fd",
   "outputs": [],
   "execution_count": 135
  },
  {
   "metadata": {
    "ExecuteTime": {
     "end_time": "2024-10-13T06:18:27.848003Z",
     "start_time": "2024-10-13T06:18:27.834048Z"
    }
   },
   "cell_type": "code",
   "source": "from utils import find_compound_name_by_cid",
   "id": "4a832837bd3b8ece",
   "outputs": [],
   "execution_count": 136
  },
  {
   "metadata": {
    "ExecuteTime": {
     "end_time": "2024-10-13T06:18:27.862955Z",
     "start_time": "2024-10-13T06:18:27.848998Z"
    }
   },
   "cell_type": "code",
   "source": [
    "# Logging setup\n",
    "time_start = datetime.now()\n",
    "log_filename = f\"{time_start.year}-{str(time_start.month).zfill(2)}-{str(time_start.day).zfill(2)}_{str(time_start.hour).zfill(2)}_{str(time_start.minute).zfill(2)}_{str(time_start.second).zfill(2)}\"\n",
    "\n",
    "os.makedirs(\"./logs/\", exist_ok = True)\n",
    "\n",
    "with open(f\"./logs/{log_filename}.log\", 'w', encoding = 'utf-8') as f:\n",
    "    f.truncate(0)\n",
    "\n",
    "logging.basicConfig(level = 'INFO', format = '[%(asctime)s] [%(thread)d - %(threadName)s] [%(levelname)s] %(message)s', encoding = 'utf-8',\n",
    "                    handlers = [\n",
    "                        logging.FileHandler(f\"./logs/{log_filename}.log\", encoding = 'utf-8'),\n",
    "                        logging.StreamHandler(stream=sys.stdout)\n",
    "                    ])"
   ],
   "id": "f6071f37c1c3f75f",
   "outputs": [],
   "execution_count": 137
  },
  {
   "metadata": {
    "ExecuteTime": {
     "end_time": "2024-10-13T06:18:27.877933Z",
     "start_time": "2024-10-13T06:18:27.863949Z"
    }
   },
   "cell_type": "code",
   "source": [
    "os.makedirs('./ligands', exist_ok=True)\n",
    "os.makedirs('./receptors', exist_ok=True)\n",
    "\n",
    "shutil.rmtree('./vina', ignore_errors=True)\n",
    "os.makedirs('./vina', exist_ok=True)\n",
    "\n",
    "shutil.rmtree('./output', ignore_errors=True)\n",
    "os.makedirs('./output', exist_ok=True)"
   ],
   "id": "5448a0206a2c9295",
   "outputs": [],
   "execution_count": 138
  },
  {
   "metadata": {
    "ExecuteTime": {
     "end_time": "2024-10-13T06:18:27.893370Z",
     "start_time": "2024-10-13T06:18:27.878904Z"
    }
   },
   "cell_type": "code",
   "source": [
    "# Configs\n",
    "vina_path = pathlib.Path('C:/Users/NatsumeRyuhane/Desktop/vina_1.2.5_win.exe')\n",
    "ligands_path = pathlib.Path('./ligands')\n",
    "receptors_path = pathlib.Path('./receptors')\n",
    "\n",
    "class VinaParams:\n",
    "    def __init__(self, center_x, center_y, center_z, size_x, size_y, size_z, exhaustiveness = 8, num_modes = 9, cpu = 16):\n",
    "        self.center_x = center_x\n",
    "        self.center_y = center_y\n",
    "        self.center_z = center_z\n",
    "        self.size_x = size_x\n",
    "        self.size_y = size_y\n",
    "        self.size_z = size_z\n",
    "        self.cpu = cpu\n",
    "        \n",
    "        # how thorough the search will be. Higher values increase the search thoroughness, \n",
    "        # but also increase the time it takes to complete the docking\n",
    "        # The default value is 8\n",
    "        self.exhaustiveness = exhaustiveness\n",
    "        \n",
    "        # how many binding modes will be generated\n",
    "        # The default value is 9\n",
    "        self.num_modes = num_modes\n",
    "\n",
    "paramSetDict = {\n",
    "    \"MIRO1mono_model1\": VinaParams(\n",
    "        center_x = 0.0,\n",
    "        center_y = 0.0,\n",
    "        center_z = 0.0,\n",
    "        size_x = 20.0,\n",
    "        size_y = 20.0,\n",
    "        size_z = 20.0\n",
    "    )\n",
    "}\n",
    "\n",
    "logging.info(f'Initialization Complete')"
   ],
   "id": "initial_id",
   "outputs": [
    {
     "name": "stdout",
     "output_type": "stream",
     "text": [
      "[2024-10-12 23:18:27,881] [968264 - MainThread] [INFO] Initialization Complete\n"
     ]
    }
   ],
   "execution_count": 139
  },
  {
   "metadata": {
    "ExecuteTime": {
     "end_time": "2024-10-13T06:18:35.621600Z",
     "start_time": "2024-10-13T06:18:27.895364Z"
    }
   },
   "cell_type": "code",
   "source": [
    "receptors = list(receptors_path.glob('*.pdbqt'))\n",
    "ligands = list(ligands_path.glob('*.pdbqt'))\n",
    "logging.info(f'Found {len(receptors)} Receptors, {len(ligands)} Ligands')\n",
    "\n",
    "# get all receptor files\n",
    "for receptor in receptors:\n",
    "    receptor_name = receptor.stem\n",
    "    logging.info(f'Receptor: {receptor_name}')\n",
    "    os.makedirs(f'./output/{receptor_name}', exist_ok=True)\n",
    "\n",
    "    if receptor_name not in paramSetDict:\n",
    "        logging.error(f\"No defined parameters found for receptor: {receptor_name}\")\n",
    "        continue\n",
    "    else:\n",
    "        paramSet = paramSetDict.get(receptor_name)\n",
    "        \n",
    "    # get all ligand files\n",
    "    for ligand in ligands:\n",
    "        ligand_cid = ligand.stem\n",
    "        ligand_name = find_compound_name_by_cid(ligand_cid)\n",
    "        \n",
    "        if ligand_name is None:\n",
    "            logging.warning(f\"Compound name not found for CID: {ligand_cid}\")\n",
    "            ligand_name = \"ligandNameNotFound\"\n",
    "        else:\n",
    "            logging.info(f'Ligand: {ligand_name}')\n",
    "            \n",
    "        receptor_file = receptor\n",
    "        ligand_file = ligand\n",
    "        \n",
    "        with open(f'./output/{receptor_name}/{ligand_name}_{ligand_cid}.pdbqt', 'w') as f:\n",
    "            pass\n",
    "        \n",
    "        # run vina\n",
    "        command = [\n",
    "            str(vina_path),\n",
    "            '--receptor', str(receptor_file),\n",
    "            '--ligand', str(ligand_file),\n",
    "            '--center_x', str(paramSet.center_x),\n",
    "            '--center_y', str(paramSet.center_y),\n",
    "            '--center_z', str(paramSet.center_z),\n",
    "            '--size_x', str(paramSet.size_x),\n",
    "            '--size_y', str(paramSet.size_y),\n",
    "            '--size_z', str(paramSet.size_z),\n",
    "            '--exhaustiveness', str(paramSet.exhaustiveness),\n",
    "            '--num_modes', str(paramSet.num_modes),\n",
    "            '--cpu', str(paramSet.cpu),\n",
    "            '--out', f'./output/{receptor_name}/{ligand_name}_{ligand_cid}.pdbqt'  # Output file for docking results\n",
    "            #'--log', f'./output/{receptor_name}/{ligand_name}[{ligand_cid}].log'    # Log file\n",
    "        ]\n",
    "        try:\n",
    "            result = subprocess.run(command, cwd=\"./\", check=True, capture_output=True, text=True)\n",
    "            \n",
    "            stdout = result.stdout\n",
    "            \n",
    "            # TODO: Post-process the output\n",
    "            \n",
    "            stderr = result.stderr\n",
    "            logging.info(f\"Completed: {ligand_name} - {receptor_name}\")\n",
    "            \n",
    "            if stderr:\n",
    "                logging.warning(f\"<STDERR>: {stderr}\")\n",
    "        except subprocess.CalledProcessError as e:\n",
    "            nl = '\\n'\n",
    "            logging.warning(f\"Vina finished with return code {e.returncode}.\\n\\n<STDERR>{nl + '| ' + str(e.stderr).replace(nl, nl + '| ')}\\n</STDERR>\\n\")\n",
    "            \n",
    "            # Assuming the output file is useless if the process failed and should be removed\n",
    "            os.remove(f'./output/{receptor_name}/{ligand_name}_{ligand_cid}.pdbqt')\n",
    "            continue\n",
    "        except Exception as e:\n",
    "            logging.error(f\"Unexpected Error: {e}\")\n",
    "            continue"
   ],
   "id": "e2dae0835447057c",
   "outputs": [
    {
     "name": "stdout",
     "output_type": "stream",
     "text": [
      "[2024-10-12 23:18:27,899] [968264 - MainThread] [INFO] Found 1 Receptors, 6 Ligands\n",
      "[2024-10-12 23:18:27,900] [968264 - MainThread] [INFO] Receptor: MIRO1mono_model1\n",
      "[2024-10-12 23:18:27,901] [968264 - MainThread] [INFO] Ligand: 3-Hydroxybenzaldehyde\n",
      "[2024-10-12 23:18:29,031] [968264 - MainThread] [INFO] Completed: 3-Hydroxybenzaldehyde - MIRO1mono_model1\n",
      "[2024-10-12 23:18:29,032] [968264 - MainThread] [WARNING] <STDERR>: WARNING: At low exhaustiveness, it may be impossible to utilize all CPUs.\n",
      "\n",
      "[2024-10-12 23:18:29,033] [968264 - MainThread] [WARNING] Compound name not found for CID: 101_out\n",
      "[2024-10-12 23:18:29,067] [968264 - MainThread] [WARNING] Vina finished with return code 1.\n",
      "\n",
      "<STDERR>\n",
      "| \n",
      "| \n",
      "| PDBQT parsing error: Unexpected multi-MODEL tag found in flex residue or ligand PDBQT file. Use \"vina_split\" to split flex residues or ligands in multiple PDBQT files.\n",
      "| \n",
      "</STDERR>\n",
      "\n",
      "[2024-10-12 23:18:29,068] [968264 - MainThread] [INFO] Ligand: Pyrocatechuic acid\n",
      "[2024-10-12 23:18:30,544] [968264 - MainThread] [INFO] Completed: Pyrocatechuic acid - MIRO1mono_model1\n",
      "[2024-10-12 23:18:30,545] [968264 - MainThread] [WARNING] <STDERR>: WARNING: At low exhaustiveness, it may be impossible to utilize all CPUs.\n",
      "\n",
      "[2024-10-12 23:18:30,545] [968264 - MainThread] [INFO] Ligand: 2-Ketoglutaric acid\n",
      "[2024-10-12 23:18:32,326] [968264 - MainThread] [INFO] Completed: 2-Ketoglutaric acid - MIRO1mono_model1\n",
      "[2024-10-12 23:18:32,327] [968264 - MainThread] [WARNING] <STDERR>: WARNING: At low exhaustiveness, it may be impossible to utilize all CPUs.\n",
      "\n",
      "[2024-10-12 23:18:32,327] [968264 - MainThread] [INFO] Ligand: Protocatechuic acid\n",
      "[2024-10-12 23:18:33,755] [968264 - MainThread] [INFO] Completed: Protocatechuic acid - MIRO1mono_model1\n",
      "[2024-10-12 23:18:33,755] [968264 - MainThread] [WARNING] <STDERR>: WARNING: At low exhaustiveness, it may be impossible to utilize all CPUs.\n",
      "\n",
      "[2024-10-12 23:18:33,757] [968264 - MainThread] [INFO] Ligand: 3-(3-Hydroxyphenyl)propionic Acid\n",
      "[2024-10-12 23:18:35,616] [968264 - MainThread] [INFO] Completed: 3-(3-Hydroxyphenyl)propionic Acid - MIRO1mono_model1\n",
      "[2024-10-12 23:18:35,616] [968264 - MainThread] [WARNING] <STDERR>: WARNING: At low exhaustiveness, it may be impossible to utilize all CPUs.\n",
      "\n"
     ]
    }
   ],
   "execution_count": 140
  }
 ],
 "metadata": {
  "kernelspec": {
   "display_name": "Python 3",
   "language": "python",
   "name": "python3"
  },
  "language_info": {
   "codemirror_mode": {
    "name": "ipython",
    "version": 2
   },
   "file_extension": ".py",
   "mimetype": "text/x-python",
   "name": "python",
   "nbconvert_exporter": "python",
   "pygments_lexer": "ipython2",
   "version": "2.7.6"
  }
 },
 "nbformat": 4,
 "nbformat_minor": 5
}
